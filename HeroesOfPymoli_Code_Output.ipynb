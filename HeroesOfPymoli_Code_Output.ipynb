{
 "cells": [
  {
   "cell_type": "code",
   "execution_count": 68,
   "metadata": {},
   "outputs": [],
   "source": [
    "# Observable Trends \n",
    "# 1) Game participation rates by gender are as follows: Male 84%, Female 12%, Other/Un-identified 2% indicating \n",
    "# that while women are certainly a target/marketable popultion, the large majority of players identify as male.\n",
    "# Regarding age demographic, the largest segment of the player population falls between the ages of 20 and 24 years \n",
    "# with a total of 45% of the 576 player population.  The second largest age segment falls between the ages of\n",
    "# 15 and 19 years with 19% of the 576 player population, and third largest age segment between 25 and 29 years with\n",
    "# 13% of the 576 player population.  \n",
    "\n",
    "# 2) A dis-similar trend, in terms of engagement rate among female players, actually manifests when we look at\n",
    "# purchase count as a percentage of total, total average purchase price of products, and total average purchase \n",
    "# per player.  Indeed, while male players undoubtely yield higher total purchase counts and amounts ($1,968 and \n",
    "# 652) versus female players ($362 and 113,) average purchase price per item and average total purchase per player \n",
    "# is actually higher among female players ($3.20 vs. $3.02 and $4.47 vs. $4.56, respectively.)\n",
    "\n",
    "# 3) Leveraging a rate/volume analysis of price versus volume and comparing average total purchase price per player\n",
    "# versus total average purchase price, there appears to be several opportunities to target player populations with \n",
    "# relatively higher average total purchase per person amounts than others, for example: 20-24 year old population, \n",
    "# 35-39 year old population, and the <10 under ten year old population, or, at least the parents and grandparents \n",
    "# who might be buying for these players. "
   ]
  },
  {
   "cell_type": "code",
   "execution_count": 18,
   "metadata": {},
   "outputs": [],
   "source": [
    "# Dependencies and Setup\n",
    "import pandas as pd\n",
    "\n",
    "# File to Load (Remember to Change These)\n",
    "file_to_load = \"Resources/purchase_data.csv\"\n",
    "\n",
    "# Read Purchasing File and store into Pandas data frame\n",
    "purchase_data = pd.read_csv(file_to_load)\n"
   ]
  },
  {
   "cell_type": "markdown",
   "metadata": {},
   "source": [
    "## Player Count"
   ]
  },
  {
   "cell_type": "markdown",
   "metadata": {},
   "source": [
    "* Display the total number of players\n"
   ]
  },
  {
   "cell_type": "code",
   "execution_count": 25,
   "metadata": {},
   "outputs": [
    {
     "data": {
      "text/html": [
       "<div>\n",
       "<style scoped>\n",
       "    .dataframe tbody tr th:only-of-type {\n",
       "        vertical-align: middle;\n",
       "    }\n",
       "\n",
       "    .dataframe tbody tr th {\n",
       "        vertical-align: top;\n",
       "    }\n",
       "\n",
       "    .dataframe thead th {\n",
       "        text-align: right;\n",
       "    }\n",
       "</style>\n",
       "<table border=\"1\" class=\"dataframe\">\n",
       "  <thead>\n",
       "    <tr style=\"text-align: right;\">\n",
       "      <th></th>\n",
       "      <th>Total Players</th>\n",
       "    </tr>\n",
       "  </thead>\n",
       "  <tbody>\n",
       "    <tr>\n",
       "      <td>0</td>\n",
       "      <td>576</td>\n",
       "    </tr>\n",
       "  </tbody>\n",
       "</table>\n",
       "</div>"
      ],
      "text/plain": [
       "   Total Players\n",
       "0            576"
      ]
     },
     "execution_count": 25,
     "metadata": {},
     "output_type": "execute_result"
    }
   ],
   "source": [
    "# Define total players, use length of list of screen names \"SN\", count \"SN\" values in string\n",
    "total_players = len(purchase_data[\"SN\"].value_counts())\n",
    "\n",
    "# Create data frame in order to return values (output/return is formatted)\n",
    "player_count = pd.DataFrame({\"Total Players\":[total_players]})\n",
    "player_count\n"
   ]
  },
  {
   "cell_type": "markdown",
   "metadata": {},
   "source": [
    "## Purchasing Analysis (Total)"
   ]
  },
  {
   "cell_type": "markdown",
   "metadata": {},
   "source": [
    "* Run basic calculations to obtain number of unique items, average price, etc.\n",
    "\n",
    "\n",
    "* Create a summary data frame to hold the results\n",
    "\n",
    "\n",
    "* Optional: give the displayed data cleaner formatting\n",
    "\n",
    "\n",
    "* Display the summary data frame\n"
   ]
  },
  {
   "cell_type": "code",
   "execution_count": 54,
   "metadata": {
    "scrolled": true
   },
   "outputs": [
    {
     "data": {
      "text/html": [
       "<style  type=\"text/css\" >\n",
       "</style><table id=\"T_0e11db8c_08e8_11ea_90fc_dca904867e7a\" ><thead>    <tr>        <th class=\"blank level0\" ></th>        <th class=\"col_heading level0 col0\" >Number of Unique Items</th>        <th class=\"col_heading level0 col1\" >Average Price</th>        <th class=\"col_heading level0 col2\" >Number of Purchases</th>        <th class=\"col_heading level0 col3\" >Total Revenue</th>    </tr></thead><tbody>\n",
       "                <tr>\n",
       "                        <th id=\"T_0e11db8c_08e8_11ea_90fc_dca904867e7alevel0_row0\" class=\"row_heading level0 row0\" >0</th>\n",
       "                        <td id=\"T_0e11db8c_08e8_11ea_90fc_dca904867e7arow0_col0\" class=\"data row0 col0\" >183</td>\n",
       "                        <td id=\"T_0e11db8c_08e8_11ea_90fc_dca904867e7arow0_col1\" class=\"data row0 col1\" >$3.05</td>\n",
       "                        <td id=\"T_0e11db8c_08e8_11ea_90fc_dca904867e7arow0_col2\" class=\"data row0 col2\" >780</td>\n",
       "                        <td id=\"T_0e11db8c_08e8_11ea_90fc_dca904867e7arow0_col3\" class=\"data row0 col3\" >$2,379.77</td>\n",
       "            </tr>\n",
       "    </tbody></table>"
      ],
      "text/plain": [
       "<pandas.io.formats.style.Styler at 0x119a9dd50>"
      ]
     },
     "execution_count": 54,
     "metadata": {},
     "output_type": "execute_result"
    }
   ],
   "source": [
    "# Capture unique items count (unique,) average price (mean,) purchase count (count,) and total revenue (sum)\n",
    "unique_items = len((purchase_data[\"Item ID\"]).unique())\n",
    "average_price = (purchase_data[\"Price\"]).mean()\n",
    "purchase_count = (purchase_data[\"Purchase ID\"]).count()\n",
    "total_revenue = (purchase_data[\"Price\"]).sum()\n",
    "\n",
    "# Create data frame in order to return values (output/return is formatted)\n",
    "summary_df = pd.DataFrame({\"Number of Unique Items\":[unique_items],\n",
    "                           \"Average Price\":[average_price], \n",
    "                           \"Number of Purchases\": [purchase_count], \n",
    "                           \"Total Revenue\": [total_revenue]})\n",
    "\n",
    "# Format average price & total revenue with $ currency and two significant figures\n",
    "summary_df.style.format({'Average Price':\"${:,.2f}\",\n",
    "                         'Total Revenue': '${:,.2f}'})\n"
   ]
  },
  {
   "cell_type": "markdown",
   "metadata": {},
   "source": [
    "## Gender Demographics"
   ]
  },
  {
   "cell_type": "markdown",
   "metadata": {},
   "source": [
    "* Percentage and Count of Male Players\n",
    "\n",
    "\n",
    "* Percentage and Count of Female Players\n",
    "\n",
    "\n",
    "* Percentage and Count of Other / Non-Disclosed\n",
    "\n",
    "\n"
   ]
  },
  {
   "cell_type": "code",
   "execution_count": 55,
   "metadata": {},
   "outputs": [
    {
     "data": {
      "text/html": [
       "<style  type=\"text/css\" >\n",
       "</style><table id=\"T_308f428a_08e8_11ea_90fc_dca904867e7a\" ><thead>    <tr>        <th class=\"blank level0\" ></th>        <th class=\"col_heading level0 col0\" >Total Count</th>        <th class=\"col_heading level0 col1\" >Percentage of Players</th>    </tr></thead><tbody>\n",
       "                <tr>\n",
       "                        <th id=\"T_308f428a_08e8_11ea_90fc_dca904867e7alevel0_row0\" class=\"row_heading level0 row0\" >Male</th>\n",
       "                        <td id=\"T_308f428a_08e8_11ea_90fc_dca904867e7arow0_col0\" class=\"data row0 col0\" >484</td>\n",
       "                        <td id=\"T_308f428a_08e8_11ea_90fc_dca904867e7arow0_col1\" class=\"data row0 col1\" >84.03%</td>\n",
       "            </tr>\n",
       "            <tr>\n",
       "                        <th id=\"T_308f428a_08e8_11ea_90fc_dca904867e7alevel0_row1\" class=\"row_heading level0 row1\" >Female</th>\n",
       "                        <td id=\"T_308f428a_08e8_11ea_90fc_dca904867e7arow1_col0\" class=\"data row1 col0\" >81</td>\n",
       "                        <td id=\"T_308f428a_08e8_11ea_90fc_dca904867e7arow1_col1\" class=\"data row1 col1\" >14.06%</td>\n",
       "            </tr>\n",
       "            <tr>\n",
       "                        <th id=\"T_308f428a_08e8_11ea_90fc_dca904867e7alevel0_row2\" class=\"row_heading level0 row2\" >Other / Non-Disclosed</th>\n",
       "                        <td id=\"T_308f428a_08e8_11ea_90fc_dca904867e7arow2_col0\" class=\"data row2 col0\" >11</td>\n",
       "                        <td id=\"T_308f428a_08e8_11ea_90fc_dca904867e7arow2_col1\" class=\"data row2 col1\" >1.91%</td>\n",
       "            </tr>\n",
       "    </tbody></table>"
      ],
      "text/plain": [
       "<pandas.io.formats.style.Styler at 0x119b9ed50>"
      ]
     },
     "execution_count": 55,
     "metadata": {},
     "output_type": "execute_result"
    }
   ],
   "source": [
    "# Group purchase_data by gender (gouping)\n",
    "gender_grouping = purchase_data.groupby(\"Gender\")\n",
    "\n",
    "# Count total screen names \"SN\" by gender (nunique)\n",
    "count_by_gender = gender_grouping.nunique()[\"SN\"]\n",
    "\n",
    "# Calculate percentage by gender, divide count by gender by total players\n",
    "percentage_by_gender = count_by_gender / total_players * 100\n",
    "\n",
    "# Create data frame in order to return values (output/return is formatted)\n",
    "gender_output = pd.DataFrame({\"Total Count\": count_by_gender, \"Percentage of Players\": percentage_by_gender})\n",
    "\n",
    "# Format table by removing index name (0)\n",
    "gender_output.index.name = None\n",
    "\n",
    "# Sort by total count in descending order, add percentage with two significant figures\n",
    "gender_output.sort_values([\"Total Count\"], ascending = False).style.format({\"Percentage of Players\":\"{:.2f}%\"})\n",
    "\n"
   ]
  },
  {
   "cell_type": "markdown",
   "metadata": {},
   "source": [
    "\n",
    "## Purchasing Analysis (Gender)"
   ]
  },
  {
   "cell_type": "markdown",
   "metadata": {},
   "source": [
    "* Run basic calculations to obtain purchase count, avg. purchase price, avg. purchase total per person etc. by gender\n",
    "\n",
    "\n",
    "\n",
    "\n",
    "* Create a summary data frame to hold the results\n",
    "\n",
    "\n",
    "* Optional: give the displayed data cleaner formatting\n",
    "\n",
    "\n",
    "* Display the summary data frame"
   ]
  },
  {
   "cell_type": "code",
   "execution_count": 63,
   "metadata": {},
   "outputs": [
    {
     "data": {
      "text/html": [
       "<style  type=\"text/css\" >\n",
       "</style><table id=\"T_956fd3f8_08e9_11ea_90fc_dca904867e7a\" ><thead>    <tr>        <th class=\"blank level0\" ></th>        <th class=\"col_heading level0 col0\" >Purchase Count</th>        <th class=\"col_heading level0 col1\" >Average Purchase Price</th>        <th class=\"col_heading level0 col2\" >Total Purchase Value</th>        <th class=\"col_heading level0 col3\" >Avg Total Purchase per Person</th>    </tr>    <tr>        <th class=\"index_name level0\" >Gender</th>        <th class=\"blank\" ></th>        <th class=\"blank\" ></th>        <th class=\"blank\" ></th>        <th class=\"blank\" ></th>    </tr></thead><tbody>\n",
       "                <tr>\n",
       "                        <th id=\"T_956fd3f8_08e9_11ea_90fc_dca904867e7alevel0_row0\" class=\"row_heading level0 row0\" >Female</th>\n",
       "                        <td id=\"T_956fd3f8_08e9_11ea_90fc_dca904867e7arow0_col0\" class=\"data row0 col0\" >113</td>\n",
       "                        <td id=\"T_956fd3f8_08e9_11ea_90fc_dca904867e7arow0_col1\" class=\"data row0 col1\" >$3.20</td>\n",
       "                        <td id=\"T_956fd3f8_08e9_11ea_90fc_dca904867e7arow0_col2\" class=\"data row0 col2\" >$361.94</td>\n",
       "                        <td id=\"T_956fd3f8_08e9_11ea_90fc_dca904867e7arow0_col3\" class=\"data row0 col3\" >$4.47</td>\n",
       "            </tr>\n",
       "            <tr>\n",
       "                        <th id=\"T_956fd3f8_08e9_11ea_90fc_dca904867e7alevel0_row1\" class=\"row_heading level0 row1\" >Male</th>\n",
       "                        <td id=\"T_956fd3f8_08e9_11ea_90fc_dca904867e7arow1_col0\" class=\"data row1 col0\" >652</td>\n",
       "                        <td id=\"T_956fd3f8_08e9_11ea_90fc_dca904867e7arow1_col1\" class=\"data row1 col1\" >$3.02</td>\n",
       "                        <td id=\"T_956fd3f8_08e9_11ea_90fc_dca904867e7arow1_col2\" class=\"data row1 col2\" >$1,967.64</td>\n",
       "                        <td id=\"T_956fd3f8_08e9_11ea_90fc_dca904867e7arow1_col3\" class=\"data row1 col3\" >$4.07</td>\n",
       "            </tr>\n",
       "            <tr>\n",
       "                        <th id=\"T_956fd3f8_08e9_11ea_90fc_dca904867e7alevel0_row2\" class=\"row_heading level0 row2\" >Other / Non-Disclosed</th>\n",
       "                        <td id=\"T_956fd3f8_08e9_11ea_90fc_dca904867e7arow2_col0\" class=\"data row2 col0\" >15</td>\n",
       "                        <td id=\"T_956fd3f8_08e9_11ea_90fc_dca904867e7arow2_col1\" class=\"data row2 col1\" >$3.35</td>\n",
       "                        <td id=\"T_956fd3f8_08e9_11ea_90fc_dca904867e7arow2_col2\" class=\"data row2 col2\" >$50.19</td>\n",
       "                        <td id=\"T_956fd3f8_08e9_11ea_90fc_dca904867e7arow2_col3\" class=\"data row2 col3\" >$4.56</td>\n",
       "            </tr>\n",
       "    </tbody></table>"
      ],
      "text/plain": [
       "<pandas.io.formats.style.Styler at 0x1199bb590>"
      ]
     },
     "execution_count": 63,
     "metadata": {},
     "output_type": "execute_result"
    }
   ],
   "source": [
    "# Count total purchases by gender (count)\n",
    "purchase_count = gender_stats[\"Purchase ID\"].count()\n",
    "\n",
    "# Calcuate average purchase price by gender (mean)\n",
    "avg_purchase_price = gender_stats[\"Price\"].mean()\n",
    "\n",
    "# Calculate total purchase value by gender (sum)\n",
    "total_purchase_value = gender_stats[\"Price\"].sum()\n",
    "\n",
    "# Calculate average total purchase per gender (total purchase value divided by count by gender)\n",
    "avg_purchase_per_gender = total_purchase_value/count_by_gender\n",
    "\n",
    "# Create data frame in order to return values (output/return is formatted)\n",
    "gender_output = pd.DataFrame({\"Purchase Count\": purchase_count, \n",
    "                                    \"Average Purchase Price\": avg_purchase_price,\n",
    "                                    \"Total Purchase Value\":total_purchase_value,\n",
    "                                    \"Avg Total Purchase per Person\": avg_purchase_per_gender})\n",
    "\n",
    "# Label top left index as \"Gender\" (replace 0 as index label)\n",
    "gender_output.index.name = \"Gender\"\n",
    "\n",
    "# Format average purchase price, total purchase value & avg total purchase/person with $ currency and two significant figures\n",
    "gender_output.style.format({\"Average Purchase Price\":\"${:,.2f}\",\n",
    "                                  \"Total Purchase Value\":\"${:,.2f}\",\n",
    "                                  \"Avg Total Purchase per Person\":\"${:,.2f}\"})\n"
   ]
  },
  {
   "cell_type": "markdown",
   "metadata": {},
   "source": [
    "## Age Demographics"
   ]
  },
  {
   "cell_type": "markdown",
   "metadata": {},
   "source": [
    "* Establish bins for ages\n",
    "\n",
    "\n",
    "* Categorize the existing players using the age bins. Hint: use pd.cut()\n",
    "\n",
    "\n",
    "* Calculate the numbers and percentages by age group\n",
    "\n",
    "\n",
    "* Create a summary data frame to hold the results\n",
    "\n",
    "\n",
    "* Optional: round the percentage column to two decimal points\n",
    "\n",
    "\n",
    "* Display Age Demographics Table\n"
   ]
  },
  {
   "cell_type": "code",
   "execution_count": 64,
   "metadata": {},
   "outputs": [
    {
     "data": {
      "text/html": [
       "<style  type=\"text/css\" >\n",
       "</style><table id=\"T_c44d3238_08e9_11ea_90fc_dca904867e7a\" ><thead>    <tr>        <th class=\"blank level0\" ></th>        <th class=\"col_heading level0 col0\" >Total Count</th>        <th class=\"col_heading level0 col1\" >Percentage of Players</th>    </tr></thead><tbody>\n",
       "                <tr>\n",
       "                        <th id=\"T_c44d3238_08e9_11ea_90fc_dca904867e7alevel0_row0\" class=\"row_heading level0 row0\" ><10</th>\n",
       "                        <td id=\"T_c44d3238_08e9_11ea_90fc_dca904867e7arow0_col0\" class=\"data row0 col0\" >17</td>\n",
       "                        <td id=\"T_c44d3238_08e9_11ea_90fc_dca904867e7arow0_col1\" class=\"data row0 col1\" >2.95%</td>\n",
       "            </tr>\n",
       "            <tr>\n",
       "                        <th id=\"T_c44d3238_08e9_11ea_90fc_dca904867e7alevel0_row1\" class=\"row_heading level0 row1\" >10-14</th>\n",
       "                        <td id=\"T_c44d3238_08e9_11ea_90fc_dca904867e7arow1_col0\" class=\"data row1 col0\" >22</td>\n",
       "                        <td id=\"T_c44d3238_08e9_11ea_90fc_dca904867e7arow1_col1\" class=\"data row1 col1\" >3.82%</td>\n",
       "            </tr>\n",
       "            <tr>\n",
       "                        <th id=\"T_c44d3238_08e9_11ea_90fc_dca904867e7alevel0_row2\" class=\"row_heading level0 row2\" >15-19</th>\n",
       "                        <td id=\"T_c44d3238_08e9_11ea_90fc_dca904867e7arow2_col0\" class=\"data row2 col0\" >107</td>\n",
       "                        <td id=\"T_c44d3238_08e9_11ea_90fc_dca904867e7arow2_col1\" class=\"data row2 col1\" >18.58%</td>\n",
       "            </tr>\n",
       "            <tr>\n",
       "                        <th id=\"T_c44d3238_08e9_11ea_90fc_dca904867e7alevel0_row3\" class=\"row_heading level0 row3\" >20-24</th>\n",
       "                        <td id=\"T_c44d3238_08e9_11ea_90fc_dca904867e7arow3_col0\" class=\"data row3 col0\" >258</td>\n",
       "                        <td id=\"T_c44d3238_08e9_11ea_90fc_dca904867e7arow3_col1\" class=\"data row3 col1\" >44.79%</td>\n",
       "            </tr>\n",
       "            <tr>\n",
       "                        <th id=\"T_c44d3238_08e9_11ea_90fc_dca904867e7alevel0_row4\" class=\"row_heading level0 row4\" >25-29</th>\n",
       "                        <td id=\"T_c44d3238_08e9_11ea_90fc_dca904867e7arow4_col0\" class=\"data row4 col0\" >77</td>\n",
       "                        <td id=\"T_c44d3238_08e9_11ea_90fc_dca904867e7arow4_col1\" class=\"data row4 col1\" >13.37%</td>\n",
       "            </tr>\n",
       "            <tr>\n",
       "                        <th id=\"T_c44d3238_08e9_11ea_90fc_dca904867e7alevel0_row5\" class=\"row_heading level0 row5\" >30-34</th>\n",
       "                        <td id=\"T_c44d3238_08e9_11ea_90fc_dca904867e7arow5_col0\" class=\"data row5 col0\" >52</td>\n",
       "                        <td id=\"T_c44d3238_08e9_11ea_90fc_dca904867e7arow5_col1\" class=\"data row5 col1\" >9.03%</td>\n",
       "            </tr>\n",
       "            <tr>\n",
       "                        <th id=\"T_c44d3238_08e9_11ea_90fc_dca904867e7alevel0_row6\" class=\"row_heading level0 row6\" >35-39</th>\n",
       "                        <td id=\"T_c44d3238_08e9_11ea_90fc_dca904867e7arow6_col0\" class=\"data row6 col0\" >31</td>\n",
       "                        <td id=\"T_c44d3238_08e9_11ea_90fc_dca904867e7arow6_col1\" class=\"data row6 col1\" >5.38%</td>\n",
       "            </tr>\n",
       "            <tr>\n",
       "                        <th id=\"T_c44d3238_08e9_11ea_90fc_dca904867e7alevel0_row7\" class=\"row_heading level0 row7\" >40+</th>\n",
       "                        <td id=\"T_c44d3238_08e9_11ea_90fc_dca904867e7arow7_col0\" class=\"data row7 col0\" >12</td>\n",
       "                        <td id=\"T_c44d3238_08e9_11ea_90fc_dca904867e7arow7_col1\" class=\"data row7 col1\" >2.08%</td>\n",
       "            </tr>\n",
       "    </tbody></table>"
      ],
      "text/plain": [
       "<pandas.io.formats.style.Styler at 0x1199a3c10>"
      ]
     },
     "execution_count": 64,
     "metadata": {},
     "output_type": "execute_result"
    }
   ],
   "source": [
    "# Define bins for age segments and assign names\n",
    "age_bins = [0, 9.99, 14.99, 19.99, 24.99, 29.99, 34.99, 39.99, 99999]\n",
    "group_names = [\"<10\", \"10-14\", \"15-19\", \"20-24\", \"25-29\", \"30-34\", \"35-39\", \"40+\"]\n",
    "\n",
    "# Segment age values into corresponding bins\n",
    "purchase_data[\"Age Group\"] = pd.cut(purchase_data[\"Age\"],age_bins, labels=group_names)\n",
    "purchase_data\n",
    "\n",
    "# Create data frame in order to return values (output/return is formatted)\n",
    "# Group purchase_data by age (\"Age Group\") (gouping)\n",
    "age_grouped = purchase_data.groupby(\"Age Group\")\n",
    "\n",
    "# Count total players by age (nunique) #Same as total screen names \"SN\" by gender\n",
    "count_by_age = age_grouped[\"SN\"].nunique()\n",
    "\n",
    "# Calculate percentage by age category #Same as percentage by gender \n",
    "percentage_by_age = (count_by_age/total_players) * 100\n",
    "\n",
    "# Create data frame in order to return values (output/return is formatted)\n",
    "age_output = pd.DataFrame({\"Total Count\": count_by_age, \"Percentage of Players\": percentage_by_age})\n",
    "\n",
    "# Format the data frame with no index name in the corner\n",
    "age_output.index.name = None\n",
    "\n",
    "# Format percentage with % and two decimal places \n",
    "age_output.style.format({\"Percentage of Players\":\"{:,.2f}%\"})\n"
   ]
  },
  {
   "cell_type": "markdown",
   "metadata": {},
   "source": [
    "## Purchasing Analysis (Age)"
   ]
  },
  {
   "cell_type": "markdown",
   "metadata": {},
   "source": [
    "* Bin the purchase_data data frame by age\n",
    "\n",
    "\n",
    "* Run basic calculations to obtain purchase count, avg. purchase price, avg. purchase total per person etc. in the table below\n",
    "\n",
    "\n",
    "* Create a summary data frame to hold the results\n",
    "\n",
    "\n",
    "* Optional: give the displayed data cleaner formatting\n",
    "\n",
    "\n",
    "* Display the summary data frame"
   ]
  },
  {
   "cell_type": "code",
   "execution_count": 66,
   "metadata": {},
   "outputs": [
    {
     "data": {
      "text/html": [
       "<style  type=\"text/css\" >\n",
       "</style><table id=\"T_e125d716_08e9_11ea_90fc_dca904867e7a\" ><thead>    <tr>        <th class=\"blank level0\" ></th>        <th class=\"col_heading level0 col0\" >Purchase Count</th>        <th class=\"col_heading level0 col1\" >Average Purchase Price</th>        <th class=\"col_heading level0 col2\" >Total Purchase Value</th>        <th class=\"col_heading level0 col3\" >Avg Total Purchase per Person</th>    </tr></thead><tbody>\n",
       "                <tr>\n",
       "                        <th id=\"T_e125d716_08e9_11ea_90fc_dca904867e7alevel0_row0\" class=\"row_heading level0 row0\" ><10</th>\n",
       "                        <td id=\"T_e125d716_08e9_11ea_90fc_dca904867e7arow0_col0\" class=\"data row0 col0\" >23</td>\n",
       "                        <td id=\"T_e125d716_08e9_11ea_90fc_dca904867e7arow0_col1\" class=\"data row0 col1\" >$3.35</td>\n",
       "                        <td id=\"T_e125d716_08e9_11ea_90fc_dca904867e7arow0_col2\" class=\"data row0 col2\" >$77.13</td>\n",
       "                        <td id=\"T_e125d716_08e9_11ea_90fc_dca904867e7arow0_col3\" class=\"data row0 col3\" >$4.54</td>\n",
       "            </tr>\n",
       "            <tr>\n",
       "                        <th id=\"T_e125d716_08e9_11ea_90fc_dca904867e7alevel0_row1\" class=\"row_heading level0 row1\" >10-14</th>\n",
       "                        <td id=\"T_e125d716_08e9_11ea_90fc_dca904867e7arow1_col0\" class=\"data row1 col0\" >28</td>\n",
       "                        <td id=\"T_e125d716_08e9_11ea_90fc_dca904867e7arow1_col1\" class=\"data row1 col1\" >$2.96</td>\n",
       "                        <td id=\"T_e125d716_08e9_11ea_90fc_dca904867e7arow1_col2\" class=\"data row1 col2\" >$82.78</td>\n",
       "                        <td id=\"T_e125d716_08e9_11ea_90fc_dca904867e7arow1_col3\" class=\"data row1 col3\" >$3.76</td>\n",
       "            </tr>\n",
       "            <tr>\n",
       "                        <th id=\"T_e125d716_08e9_11ea_90fc_dca904867e7alevel0_row2\" class=\"row_heading level0 row2\" >15-19</th>\n",
       "                        <td id=\"T_e125d716_08e9_11ea_90fc_dca904867e7arow2_col0\" class=\"data row2 col0\" >136</td>\n",
       "                        <td id=\"T_e125d716_08e9_11ea_90fc_dca904867e7arow2_col1\" class=\"data row2 col1\" >$3.04</td>\n",
       "                        <td id=\"T_e125d716_08e9_11ea_90fc_dca904867e7arow2_col2\" class=\"data row2 col2\" >$412.89</td>\n",
       "                        <td id=\"T_e125d716_08e9_11ea_90fc_dca904867e7arow2_col3\" class=\"data row2 col3\" >$3.86</td>\n",
       "            </tr>\n",
       "            <tr>\n",
       "                        <th id=\"T_e125d716_08e9_11ea_90fc_dca904867e7alevel0_row3\" class=\"row_heading level0 row3\" >20-24</th>\n",
       "                        <td id=\"T_e125d716_08e9_11ea_90fc_dca904867e7arow3_col0\" class=\"data row3 col0\" >365</td>\n",
       "                        <td id=\"T_e125d716_08e9_11ea_90fc_dca904867e7arow3_col1\" class=\"data row3 col1\" >$3.05</td>\n",
       "                        <td id=\"T_e125d716_08e9_11ea_90fc_dca904867e7arow3_col2\" class=\"data row3 col2\" >$1,114.06</td>\n",
       "                        <td id=\"T_e125d716_08e9_11ea_90fc_dca904867e7arow3_col3\" class=\"data row3 col3\" >$4.32</td>\n",
       "            </tr>\n",
       "            <tr>\n",
       "                        <th id=\"T_e125d716_08e9_11ea_90fc_dca904867e7alevel0_row4\" class=\"row_heading level0 row4\" >25-29</th>\n",
       "                        <td id=\"T_e125d716_08e9_11ea_90fc_dca904867e7arow4_col0\" class=\"data row4 col0\" >101</td>\n",
       "                        <td id=\"T_e125d716_08e9_11ea_90fc_dca904867e7arow4_col1\" class=\"data row4 col1\" >$2.90</td>\n",
       "                        <td id=\"T_e125d716_08e9_11ea_90fc_dca904867e7arow4_col2\" class=\"data row4 col2\" >$293.00</td>\n",
       "                        <td id=\"T_e125d716_08e9_11ea_90fc_dca904867e7arow4_col3\" class=\"data row4 col3\" >$3.81</td>\n",
       "            </tr>\n",
       "            <tr>\n",
       "                        <th id=\"T_e125d716_08e9_11ea_90fc_dca904867e7alevel0_row5\" class=\"row_heading level0 row5\" >30-34</th>\n",
       "                        <td id=\"T_e125d716_08e9_11ea_90fc_dca904867e7arow5_col0\" class=\"data row5 col0\" >73</td>\n",
       "                        <td id=\"T_e125d716_08e9_11ea_90fc_dca904867e7arow5_col1\" class=\"data row5 col1\" >$2.93</td>\n",
       "                        <td id=\"T_e125d716_08e9_11ea_90fc_dca904867e7arow5_col2\" class=\"data row5 col2\" >$214.00</td>\n",
       "                        <td id=\"T_e125d716_08e9_11ea_90fc_dca904867e7arow5_col3\" class=\"data row5 col3\" >$4.12</td>\n",
       "            </tr>\n",
       "            <tr>\n",
       "                        <th id=\"T_e125d716_08e9_11ea_90fc_dca904867e7alevel0_row6\" class=\"row_heading level0 row6\" >35-39</th>\n",
       "                        <td id=\"T_e125d716_08e9_11ea_90fc_dca904867e7arow6_col0\" class=\"data row6 col0\" >41</td>\n",
       "                        <td id=\"T_e125d716_08e9_11ea_90fc_dca904867e7arow6_col1\" class=\"data row6 col1\" >$3.60</td>\n",
       "                        <td id=\"T_e125d716_08e9_11ea_90fc_dca904867e7arow6_col2\" class=\"data row6 col2\" >$147.67</td>\n",
       "                        <td id=\"T_e125d716_08e9_11ea_90fc_dca904867e7arow6_col3\" class=\"data row6 col3\" >$4.76</td>\n",
       "            </tr>\n",
       "            <tr>\n",
       "                        <th id=\"T_e125d716_08e9_11ea_90fc_dca904867e7alevel0_row7\" class=\"row_heading level0 row7\" >40+</th>\n",
       "                        <td id=\"T_e125d716_08e9_11ea_90fc_dca904867e7arow7_col0\" class=\"data row7 col0\" >13</td>\n",
       "                        <td id=\"T_e125d716_08e9_11ea_90fc_dca904867e7arow7_col1\" class=\"data row7 col1\" >$2.94</td>\n",
       "                        <td id=\"T_e125d716_08e9_11ea_90fc_dca904867e7arow7_col2\" class=\"data row7 col2\" >$38.24</td>\n",
       "                        <td id=\"T_e125d716_08e9_11ea_90fc_dca904867e7arow7_col3\" class=\"data row7 col3\" >$3.19</td>\n",
       "            </tr>\n",
       "    </tbody></table>"
      ],
      "text/plain": [
       "<pandas.io.formats.style.Styler at 0x1199bbe10>"
      ]
     },
     "execution_count": 66,
     "metadata": {},
     "output_type": "execute_result"
    }
   ],
   "source": [
    "# Count total purchases by age group (count)\n",
    "purchase_count_age = age_grouped[\"Purchase ID\"].count()\n",
    "\n",
    "# Calculate average purchase price by age group (mean)\n",
    "avg_purchase_price_age = age_grouped[\"Price\"].mean()\n",
    "\n",
    "# Calculate total purchase value by age group (sum)\n",
    "total_purchase_value = age_grouped[\"Price\"].sum()\n",
    "\n",
    "# Calculate average total purchase per person in the age group (total purchase value divided by total count age)\n",
    "avg_purchase_by_age = total_purchase_value/total_count_age\n",
    "\n",
    "# Create data frame in order to return values (output/return is formatted)\n",
    "age_output = pd.DataFrame({\"Purchase Count\": purchase_count_age,\n",
    "                                 \"Average Purchase Price\": avg_purchase_price_age,\n",
    "                                 \"Total Purchase Value\":total_purchase_value,\n",
    "                                 \"Avg Total Purchase per Person\": avg_purchase_by_age})\n",
    "\n",
    "# Format the data frame with no index name in the corner\n",
    "age_output.index.name = None\n",
    "\n",
    "# Format with currency style\n",
    "age_output.style.format({\"Average Purchase Price\":\"${:,.2f}\",\n",
    "                               \"Total Purchase Value\":\"${:,.2f}\",\n",
    "                               \"Avg Total Purchase per Person\":\"${:,.2f}\"})\n",
    "\n"
   ]
  },
  {
   "cell_type": "markdown",
   "metadata": {},
   "source": [
    "## Top Spenders"
   ]
  },
  {
   "cell_type": "markdown",
   "metadata": {},
   "source": [
    "* Run basic calculations to obtain the results in the table below\n",
    "\n",
    "\n",
    "* Create a summary data frame to hold the results\n",
    "\n",
    "\n",
    "* Sort the total purchase value column in descending order\n",
    "\n",
    "\n",
    "* Optional: give the displayed data cleaner formatting\n",
    "\n",
    "\n",
    "* Display a preview of the summary data frame\n",
    "\n"
   ]
  },
  {
   "cell_type": "code",
   "execution_count": 50,
   "metadata": {},
   "outputs": [
    {
     "data": {
      "text/html": [
       "<style  type=\"text/css\" >\n",
       "</style><table id=\"T_b99aa796_08e2_11ea_90fc_dca904867e7a\" ><thead>    <tr>        <th class=\"blank level0\" ></th>        <th class=\"col_heading level0 col0\" >Purchase Count</th>        <th class=\"col_heading level0 col1\" >Average Purchase Price</th>        <th class=\"col_heading level0 col2\" >Total Purchase Value</th>    </tr>    <tr>        <th class=\"index_name level0\" >SN</th>        <th class=\"blank\" ></th>        <th class=\"blank\" ></th>        <th class=\"blank\" ></th>    </tr></thead><tbody>\n",
       "                <tr>\n",
       "                        <th id=\"T_b99aa796_08e2_11ea_90fc_dca904867e7alevel0_row0\" class=\"row_heading level0 row0\" >Lisosia93</th>\n",
       "                        <td id=\"T_b99aa796_08e2_11ea_90fc_dca904867e7arow0_col0\" class=\"data row0 col0\" >5</td>\n",
       "                        <td id=\"T_b99aa796_08e2_11ea_90fc_dca904867e7arow0_col1\" class=\"data row0 col1\" >$3.79</td>\n",
       "                        <td id=\"T_b99aa796_08e2_11ea_90fc_dca904867e7arow0_col2\" class=\"data row0 col2\" >$18.96</td>\n",
       "            </tr>\n",
       "            <tr>\n",
       "                        <th id=\"T_b99aa796_08e2_11ea_90fc_dca904867e7alevel0_row1\" class=\"row_heading level0 row1\" >Idastidru52</th>\n",
       "                        <td id=\"T_b99aa796_08e2_11ea_90fc_dca904867e7arow1_col0\" class=\"data row1 col0\" >4</td>\n",
       "                        <td id=\"T_b99aa796_08e2_11ea_90fc_dca904867e7arow1_col1\" class=\"data row1 col1\" >$3.86</td>\n",
       "                        <td id=\"T_b99aa796_08e2_11ea_90fc_dca904867e7arow1_col2\" class=\"data row1 col2\" >$15.45</td>\n",
       "            </tr>\n",
       "            <tr>\n",
       "                        <th id=\"T_b99aa796_08e2_11ea_90fc_dca904867e7alevel0_row2\" class=\"row_heading level0 row2\" >Chamjask73</th>\n",
       "                        <td id=\"T_b99aa796_08e2_11ea_90fc_dca904867e7arow2_col0\" class=\"data row2 col0\" >3</td>\n",
       "                        <td id=\"T_b99aa796_08e2_11ea_90fc_dca904867e7arow2_col1\" class=\"data row2 col1\" >$4.61</td>\n",
       "                        <td id=\"T_b99aa796_08e2_11ea_90fc_dca904867e7arow2_col2\" class=\"data row2 col2\" >$13.83</td>\n",
       "            </tr>\n",
       "            <tr>\n",
       "                        <th id=\"T_b99aa796_08e2_11ea_90fc_dca904867e7alevel0_row3\" class=\"row_heading level0 row3\" >Iral74</th>\n",
       "                        <td id=\"T_b99aa796_08e2_11ea_90fc_dca904867e7arow3_col0\" class=\"data row3 col0\" >4</td>\n",
       "                        <td id=\"T_b99aa796_08e2_11ea_90fc_dca904867e7arow3_col1\" class=\"data row3 col1\" >$3.40</td>\n",
       "                        <td id=\"T_b99aa796_08e2_11ea_90fc_dca904867e7arow3_col2\" class=\"data row3 col2\" >$13.62</td>\n",
       "            </tr>\n",
       "            <tr>\n",
       "                        <th id=\"T_b99aa796_08e2_11ea_90fc_dca904867e7alevel0_row4\" class=\"row_heading level0 row4\" >Iskadarya95</th>\n",
       "                        <td id=\"T_b99aa796_08e2_11ea_90fc_dca904867e7arow4_col0\" class=\"data row4 col0\" >3</td>\n",
       "                        <td id=\"T_b99aa796_08e2_11ea_90fc_dca904867e7arow4_col1\" class=\"data row4 col1\" >$4.37</td>\n",
       "                        <td id=\"T_b99aa796_08e2_11ea_90fc_dca904867e7arow4_col2\" class=\"data row4 col2\" >$13.10</td>\n",
       "            </tr>\n",
       "    </tbody></table>"
      ],
      "text/plain": [
       "<pandas.io.formats.style.Styler at 0x119a598d0>"
      ]
     },
     "execution_count": 50,
     "metadata": {},
     "output_type": "execute_result"
    }
   ],
   "source": [
    "# Identify top 5 spenders by purchase count, avg purchase price, total purchase value\n",
    "# Replicate the same code as was done for gender and age groups\n",
    "\n",
    "# Group purchase_data by screen names (gouping)\n",
    "spender_stats = purchase_data.groupby(\"SN\")\n",
    "\n",
    "# Count total purchases by spender (count)\n",
    "purchase_count_by_spender = spender_stats[\"Purchase ID\"].count()\n",
    "\n",
    "# Calcuate average purchase price by spender (mean)\n",
    "avg_purchase_price_spender = spender_stats[\"Price\"].mean()\n",
    "\n",
    "# Calculate total purchase value by spender (sum)\n",
    "purchase_total_spender = spender_stats[\"Price\"].sum()\n",
    "\n",
    "# Create data frame in order to return values (output/return is formatted)\n",
    "top_spenders = pd.DataFrame({\"Purchase Count\": purchase_count_by_spender,\n",
    "                             \"Average Purchase Price\": avg_purchase_price_spender,\n",
    "                             \"Total Purchase Value\":purchase_total_spender})\n",
    "\n",
    "# Sort in descending order to obtain top 5 spender names, print head\n",
    "formatted_spenders = top_spenders.sort_values([\"Total Purchase Value\"], ascending=False).head()\n",
    "\n",
    "# Format table by assigning \"SN\" as index name\n",
    "formatted_spenders.index.name = \"SN\"\n",
    "\n",
    "# Format average purchase price & total purchase value with $ currency and two significant figures\n",
    "formatted_spenders.style.format({\"Average Purchase Price\":\"${:,.2f}\", \n",
    "                                 \"Total Purchase Value\":\"${:,.2f}\"})\n"
   ]
  },
  {
   "cell_type": "markdown",
   "metadata": {},
   "source": [
    "## Most Popular Items"
   ]
  },
  {
   "cell_type": "markdown",
   "metadata": {},
   "source": [
    "* Retrieve the Item ID, Item Name, and Item Price columns\n",
    "\n",
    "\n",
    "* Group by Item ID and Item Name. Perform calculations to obtain purchase count, item price, and total purchase value\n",
    "\n",
    "\n",
    "* Create a summary data frame to hold the results\n",
    "\n",
    "\n",
    "* Sort the purchase count column in descending order\n",
    "\n",
    "\n",
    "* Optional: give the displayed data cleaner formatting\n",
    "\n",
    "\n",
    "* Display a preview of the summary data frame\n",
    "\n"
   ]
  },
  {
   "cell_type": "code",
   "execution_count": 52,
   "metadata": {},
   "outputs": [
    {
     "data": {
      "text/html": [
       "<style  type=\"text/css\" >\n",
       "</style><table id=\"T_b58087b4_08e4_11ea_90fc_dca904867e7a\" ><thead>    <tr>        <th class=\"blank\" ></th>        <th class=\"blank level0\" ></th>        <th class=\"col_heading level0 col0\" >Purchase Count</th>        <th class=\"col_heading level0 col1\" >Item Price</th>        <th class=\"col_heading level0 col2\" >Total Purchase Value</th>    </tr>    <tr>        <th class=\"index_name level0\" >Item ID</th>        <th class=\"index_name level1\" >Item Name</th>        <th class=\"blank\" ></th>        <th class=\"blank\" ></th>        <th class=\"blank\" ></th>    </tr></thead><tbody>\n",
       "                <tr>\n",
       "                        <th id=\"T_b58087b4_08e4_11ea_90fc_dca904867e7alevel0_row0\" class=\"row_heading level0 row0\" >178</th>\n",
       "                        <th id=\"T_b58087b4_08e4_11ea_90fc_dca904867e7alevel1_row0\" class=\"row_heading level1 row0\" >Oathbreaker, Last Hope of the Breaking Storm</th>\n",
       "                        <td id=\"T_b58087b4_08e4_11ea_90fc_dca904867e7arow0_col0\" class=\"data row0 col0\" >12</td>\n",
       "                        <td id=\"T_b58087b4_08e4_11ea_90fc_dca904867e7arow0_col1\" class=\"data row0 col1\" >$4.23</td>\n",
       "                        <td id=\"T_b58087b4_08e4_11ea_90fc_dca904867e7arow0_col2\" class=\"data row0 col2\" >$50.76</td>\n",
       "            </tr>\n",
       "            <tr>\n",
       "                        <th id=\"T_b58087b4_08e4_11ea_90fc_dca904867e7alevel0_row1\" class=\"row_heading level0 row1\" >145</th>\n",
       "                        <th id=\"T_b58087b4_08e4_11ea_90fc_dca904867e7alevel1_row1\" class=\"row_heading level1 row1\" >Fiery Glass Crusader</th>\n",
       "                        <td id=\"T_b58087b4_08e4_11ea_90fc_dca904867e7arow1_col0\" class=\"data row1 col0\" >9</td>\n",
       "                        <td id=\"T_b58087b4_08e4_11ea_90fc_dca904867e7arow1_col1\" class=\"data row1 col1\" >$4.58</td>\n",
       "                        <td id=\"T_b58087b4_08e4_11ea_90fc_dca904867e7arow1_col2\" class=\"data row1 col2\" >$41.22</td>\n",
       "            </tr>\n",
       "            <tr>\n",
       "                        <th id=\"T_b58087b4_08e4_11ea_90fc_dca904867e7alevel0_row2\" class=\"row_heading level0 row2\" >108</th>\n",
       "                        <th id=\"T_b58087b4_08e4_11ea_90fc_dca904867e7alevel1_row2\" class=\"row_heading level1 row2\" >Extraction, Quickblade Of Trembling Hands</th>\n",
       "                        <td id=\"T_b58087b4_08e4_11ea_90fc_dca904867e7arow2_col0\" class=\"data row2 col0\" >9</td>\n",
       "                        <td id=\"T_b58087b4_08e4_11ea_90fc_dca904867e7arow2_col1\" class=\"data row2 col1\" >$3.53</td>\n",
       "                        <td id=\"T_b58087b4_08e4_11ea_90fc_dca904867e7arow2_col2\" class=\"data row2 col2\" >$31.77</td>\n",
       "            </tr>\n",
       "            <tr>\n",
       "                        <th id=\"T_b58087b4_08e4_11ea_90fc_dca904867e7alevel0_row3\" class=\"row_heading level0 row3\" >82</th>\n",
       "                        <th id=\"T_b58087b4_08e4_11ea_90fc_dca904867e7alevel1_row3\" class=\"row_heading level1 row3\" >Nirvana</th>\n",
       "                        <td id=\"T_b58087b4_08e4_11ea_90fc_dca904867e7arow3_col0\" class=\"data row3 col0\" >9</td>\n",
       "                        <td id=\"T_b58087b4_08e4_11ea_90fc_dca904867e7arow3_col1\" class=\"data row3 col1\" >$4.90</td>\n",
       "                        <td id=\"T_b58087b4_08e4_11ea_90fc_dca904867e7arow3_col2\" class=\"data row3 col2\" >$44.10</td>\n",
       "            </tr>\n",
       "            <tr>\n",
       "                        <th id=\"T_b58087b4_08e4_11ea_90fc_dca904867e7alevel0_row4\" class=\"row_heading level0 row4\" >19</th>\n",
       "                        <th id=\"T_b58087b4_08e4_11ea_90fc_dca904867e7alevel1_row4\" class=\"row_heading level1 row4\" >Pursuit, Cudgel of Necromancy</th>\n",
       "                        <td id=\"T_b58087b4_08e4_11ea_90fc_dca904867e7arow4_col0\" class=\"data row4 col0\" >8</td>\n",
       "                        <td id=\"T_b58087b4_08e4_11ea_90fc_dca904867e7arow4_col1\" class=\"data row4 col1\" >$1.02</td>\n",
       "                        <td id=\"T_b58087b4_08e4_11ea_90fc_dca904867e7arow4_col2\" class=\"data row4 col2\" >$8.16</td>\n",
       "            </tr>\n",
       "    </tbody></table>"
      ],
      "text/plain": [
       "<pandas.io.formats.style.Styler at 0x119af6a50>"
      ]
     },
     "execution_count": 52,
     "metadata": {},
     "output_type": "execute_result"
    }
   ],
   "source": [
    "# Identify top 5 items by purchase count, sorting by Item ID, item name, item price, and total purchase value\n",
    "# Replicate the same code as was done for gender, age groups, and top spenders\n",
    "\n",
    "# Create new data frame capturing relevent sort categories\n",
    "items = purchase_data[[\"Item ID\", \"Item Name\", \"Price\"]]\n",
    "\n",
    "# Group the item data by item id and item name \n",
    "item_stats = items.groupby([\"Item ID\",\"Item Name\"])\n",
    "\n",
    "# Count total purchases by item, grouped 1:1 by both item id and item name (count)\n",
    "purchase_count_item = item_stats[\"Price\"].count()\n",
    "\n",
    "# Calculate total purchase value by item (sum)\n",
    "purchase_value_item = (item_stats[\"Price\"].sum()) \n",
    "\n",
    "# Calculate individual item price (total purchase value divided by purchase count)\n",
    "item_price = purchase_value_item/purchase_count_item\n",
    "\n",
    "# Create data frame in order to return values (output/return is formatted)\n",
    "most_popular_items = pd.DataFrame({\"Purchase Count\": purchase_count_item, \n",
    "                                   \"Item Price\": item_price,\n",
    "                                   \"Total Purchase Value\":purchase_value_item})\n",
    "\n",
    "# Sort in descending order top 5 item names by purchase count, print head\n",
    "popular_formatted = most_popular_items.sort_values([\"Purchase Count\"], ascending=False).head()\n",
    "\n",
    "# Format item price and total purchase value with $ currency and two significant figures\n",
    "popular_formatted.style.format({\"Item Price\":\"${:,.2f}\",\n",
    "                                \"Total Purchase Value\":\"${:,.2f}\"})\n"
   ]
  },
  {
   "cell_type": "markdown",
   "metadata": {},
   "source": [
    "## Most Profitable Items"
   ]
  },
  {
   "cell_type": "markdown",
   "metadata": {},
   "source": [
    "* Sort the above table by total purchase value in descending order\n",
    "\n",
    "\n",
    "* Optional: give the displayed data cleaner formatting\n",
    "\n",
    "\n",
    "* Display a preview of the data frame\n",
    "\n"
   ]
  },
  {
   "cell_type": "code",
   "execution_count": 53,
   "metadata": {
    "scrolled": true
   },
   "outputs": [
    {
     "data": {
      "text/html": [
       "<style  type=\"text/css\" >\n",
       "</style><table id=\"T_9e07048a_08e6_11ea_90fc_dca904867e7a\" ><thead>    <tr>        <th class=\"blank\" ></th>        <th class=\"blank level0\" ></th>        <th class=\"col_heading level0 col0\" >Purchase Count</th>        <th class=\"col_heading level0 col1\" >Item Price</th>        <th class=\"col_heading level0 col2\" >Total Purchase Value</th>    </tr>    <tr>        <th class=\"index_name level0\" >Item ID</th>        <th class=\"index_name level1\" >Item Name</th>        <th class=\"blank\" ></th>        <th class=\"blank\" ></th>        <th class=\"blank\" ></th>    </tr></thead><tbody>\n",
       "                <tr>\n",
       "                        <th id=\"T_9e07048a_08e6_11ea_90fc_dca904867e7alevel0_row0\" class=\"row_heading level0 row0\" >178</th>\n",
       "                        <th id=\"T_9e07048a_08e6_11ea_90fc_dca904867e7alevel1_row0\" class=\"row_heading level1 row0\" >Oathbreaker, Last Hope of the Breaking Storm</th>\n",
       "                        <td id=\"T_9e07048a_08e6_11ea_90fc_dca904867e7arow0_col0\" class=\"data row0 col0\" >12</td>\n",
       "                        <td id=\"T_9e07048a_08e6_11ea_90fc_dca904867e7arow0_col1\" class=\"data row0 col1\" >$4.23</td>\n",
       "                        <td id=\"T_9e07048a_08e6_11ea_90fc_dca904867e7arow0_col2\" class=\"data row0 col2\" >$50.76</td>\n",
       "            </tr>\n",
       "            <tr>\n",
       "                        <th id=\"T_9e07048a_08e6_11ea_90fc_dca904867e7alevel0_row1\" class=\"row_heading level0 row1\" >82</th>\n",
       "                        <th id=\"T_9e07048a_08e6_11ea_90fc_dca904867e7alevel1_row1\" class=\"row_heading level1 row1\" >Nirvana</th>\n",
       "                        <td id=\"T_9e07048a_08e6_11ea_90fc_dca904867e7arow1_col0\" class=\"data row1 col0\" >9</td>\n",
       "                        <td id=\"T_9e07048a_08e6_11ea_90fc_dca904867e7arow1_col1\" class=\"data row1 col1\" >$4.90</td>\n",
       "                        <td id=\"T_9e07048a_08e6_11ea_90fc_dca904867e7arow1_col2\" class=\"data row1 col2\" >$44.10</td>\n",
       "            </tr>\n",
       "            <tr>\n",
       "                        <th id=\"T_9e07048a_08e6_11ea_90fc_dca904867e7alevel0_row2\" class=\"row_heading level0 row2\" >145</th>\n",
       "                        <th id=\"T_9e07048a_08e6_11ea_90fc_dca904867e7alevel1_row2\" class=\"row_heading level1 row2\" >Fiery Glass Crusader</th>\n",
       "                        <td id=\"T_9e07048a_08e6_11ea_90fc_dca904867e7arow2_col0\" class=\"data row2 col0\" >9</td>\n",
       "                        <td id=\"T_9e07048a_08e6_11ea_90fc_dca904867e7arow2_col1\" class=\"data row2 col1\" >$4.58</td>\n",
       "                        <td id=\"T_9e07048a_08e6_11ea_90fc_dca904867e7arow2_col2\" class=\"data row2 col2\" >$41.22</td>\n",
       "            </tr>\n",
       "            <tr>\n",
       "                        <th id=\"T_9e07048a_08e6_11ea_90fc_dca904867e7alevel0_row3\" class=\"row_heading level0 row3\" >92</th>\n",
       "                        <th id=\"T_9e07048a_08e6_11ea_90fc_dca904867e7alevel1_row3\" class=\"row_heading level1 row3\" >Final Critic</th>\n",
       "                        <td id=\"T_9e07048a_08e6_11ea_90fc_dca904867e7arow3_col0\" class=\"data row3 col0\" >8</td>\n",
       "                        <td id=\"T_9e07048a_08e6_11ea_90fc_dca904867e7arow3_col1\" class=\"data row3 col1\" >$4.88</td>\n",
       "                        <td id=\"T_9e07048a_08e6_11ea_90fc_dca904867e7arow3_col2\" class=\"data row3 col2\" >$39.04</td>\n",
       "            </tr>\n",
       "            <tr>\n",
       "                        <th id=\"T_9e07048a_08e6_11ea_90fc_dca904867e7alevel0_row4\" class=\"row_heading level0 row4\" >103</th>\n",
       "                        <th id=\"T_9e07048a_08e6_11ea_90fc_dca904867e7alevel1_row4\" class=\"row_heading level1 row4\" >Singed Scalpel</th>\n",
       "                        <td id=\"T_9e07048a_08e6_11ea_90fc_dca904867e7arow4_col0\" class=\"data row4 col0\" >8</td>\n",
       "                        <td id=\"T_9e07048a_08e6_11ea_90fc_dca904867e7arow4_col1\" class=\"data row4 col1\" >$4.35</td>\n",
       "                        <td id=\"T_9e07048a_08e6_11ea_90fc_dca904867e7arow4_col2\" class=\"data row4 col2\" >$34.80</td>\n",
       "            </tr>\n",
       "    </tbody></table>"
      ],
      "text/plain": [
       "<pandas.io.formats.style.Styler at 0x119a594d0>"
      ]
     },
     "execution_count": 53,
     "metadata": {},
     "output_type": "execute_result"
    }
   ],
   "source": [
    "# Identify top 5 items by total purchase value, sorting by Item ID, item name, purchase count, and item price\n",
    "# Replicate the same code as was done for top 5 items by purchase count\n",
    "\n",
    "# Sort in descending order top 5 item names by total purchase value, print head\n",
    "popular_formatted = most_popular_items.sort_values([\"Total Purchase Value\"],\n",
    "                                                   ascending=False).head()\n",
    "# Format item price and total purchase value with $ currency and two significant figures\n",
    "popular_formatted.style.format({\"Item Price\":\"${:,.2f}\",\n",
    "                                \"Total Purchase Value\":\"${:,.2f}\"})\n"
   ]
  }
 ],
 "metadata": {
  "anaconda-cloud": {},
  "kernel_info": {
   "name": "python3"
  },
  "kernelspec": {
   "display_name": "Python 3",
   "language": "python",
   "name": "python3"
  },
  "language_info": {
   "codemirror_mode": {
    "name": "ipython",
    "version": 3
   },
   "file_extension": ".py",
   "mimetype": "text/x-python",
   "name": "python",
   "nbconvert_exporter": "python",
   "pygments_lexer": "ipython3",
   "version": "3.7.4"
  },
  "latex_envs": {
   "LaTeX_envs_menu_present": true,
   "autoclose": false,
   "autocomplete": true,
   "bibliofile": "biblio.bib",
   "cite_by": "apalike",
   "current_citInitial": 1,
   "eqLabelWithNumbers": true,
   "eqNumInitial": 1,
   "hotkeys": {
    "equation": "Ctrl-E",
    "itemize": "Ctrl-I"
   },
   "labels_anchors": false,
   "latex_user_defs": false,
   "report_style_numbering": false,
   "user_envs_cfg": false
  },
  "nteract": {
   "version": "0.2.0"
  }
 },
 "nbformat": 4,
 "nbformat_minor": 2
}
